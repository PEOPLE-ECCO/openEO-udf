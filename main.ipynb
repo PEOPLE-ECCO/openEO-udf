{
 "cells": [
  {
   "cell_type": "code",
   "execution_count": null,
   "metadata": {},
   "outputs": [],
   "source": [
    "import openeo\n",
    "from netCDF4 import Dataset"
   ]
  },
  {
   "cell_type": "markdown",
   "metadata": {},
   "source": [
    "Remove existing authentication token (if necessary) and then authenticate. Then check which library versions are installed."
   ]
  },
  {
   "cell_type": "code",
   "execution_count": null,
   "metadata": {},
   "outputs": [],
   "source": [
    "from openeo.rest.auth.config import RefreshTokenStore\n",
    "RefreshTokenStore().remove()\n",
    "connection = openeo.connect(\"openeo.cloud\").authenticate_oidc()\n",
    "connection.list_udf_runtimes()[\"Python\"][\"versions\"][\"3\"][\"libraries\"]"
   ]
  },
  {
   "cell_type": "markdown",
   "metadata": {},
   "source": [
    "Load datacube:"
   ]
  },
  {
   "cell_type": "code",
   "execution_count": null,
   "metadata": {},
   "outputs": [],
   "source": [
    "s2_cube = connection.load_collection(\n",
    "    \"SENTINEL2_L2A\",\n",
    "    spatial_extent={\"west\": 4.00, \"south\": 51.04, \"east\": 4.10, \"north\": 51.1},\n",
    "    temporal_extent=[\"2022-03-01\", \"2022-03-31\"],\n",
    "    bands=[\"B02\", \"B03\", \"B04\"]\n",
    ")"
   ]
  },
  {
   "cell_type": "markdown",
   "metadata": {},
   "source": [
    "Load user-defined function stored in script.R and check installed dependencies."
   ]
  },
  {
   "cell_type": "code",
   "execution_count": null,
   "metadata": {},
   "outputs": [],
   "source": [
    "udf = openeo.UDF.from_file(\"script.py\")\n",
    "\n",
    "from openeo.udf.run_code import extract_udf_dependencies\n",
    "extract_udf_dependencies(udf)"
   ]
  },
  {
   "cell_type": "markdown",
   "metadata": {},
   "source": [
    "Apply that function to the datacube and download the result."
   ]
  },
  {
   "cell_type": "code",
   "execution_count": null,
   "metadata": {},
   "outputs": [],
   "source": [
    "rescaled = s2_cube.apply(process=udf)\n",
    "rescaled.download(\"apply-udf-scaling.nc\")"
   ]
  },
  {
   "cell_type": "code",
   "execution_count": null,
   "metadata": {},
   "outputs": [],
   "source": [
    "# Open the NetCDF file\n",
    "file_path = \"apply-udf-scaling.nc\"  # Replace with your NetCDF file path\n",
    "nc_data = Dataset(file_path, mode='r')\n",
    "\n",
    "# Print the structure of the NetCDF file\n",
    "print(\"NetCDF Dimensions:\")\n",
    "print(nc_data.dimensions)\n",
    "print(\"\\nNetCDF Variables:\")\n",
    "print(nc_data.variables)\n",
    "\n",
    "# Iterate through variables and print their details\n",
    "for var_name, var in nc_data.variables.items():\n",
    "    print(f\"\\nVariable: {var_name}\")\n",
    "    print(f\"Dimensions: {var.dimensions}\")\n",
    "    print(f\"Shape: {var.shape}\")\n",
    "    print(f\"Attributes: {var.ncattrs()}\")\n",
    "    print(f\"Data (preview): {var[:]}\")  # Warning: Large datasets may be overwhelming\n",
    "\n",
    "# Close the file\n",
    "nc_data.close()\n"
   ]
  },
  {
   "cell_type": "markdown",
   "metadata": {},
   "source": [
    "Run function locally:"
   ]
  },
  {
   "cell_type": "code",
   "execution_count": null,
   "metadata": {},
   "outputs": [
    {
     "data": {
      "text/plain": [
       "<UdfData datacube_list:[<XarrayDataCube shape:(6, 3, 679, 711)>] feature_collection_list:None structured_data_list:None>"
      ]
     },
     "execution_count": 23,
     "metadata": {},
     "output_type": "execute_result"
    }
   ],
   "source": [
    "from pathlib import Path\n",
    "from openeo.udf import execute_local_udf\n",
    "\n",
    "s2_cube.download('test_input.nc', format='NetCDF')\n",
    "local_udf = Path('script.py').read_text()\n",
    "execute_local_udf(local_udf, 'test_input.nc', fmt='netcdf')"
   ]
  }
 ],
 "metadata": {
  "kernelspec": {
   "display_name": "venv",
   "language": "python",
   "name": "python3"
  },
  "language_info": {
   "codemirror_mode": {
    "name": "ipython",
    "version": 3
   },
   "file_extension": ".py",
   "mimetype": "text/x-python",
   "name": "python",
   "nbconvert_exporter": "python",
   "pygments_lexer": "ipython3",
   "version": "3.10.7"
  }
 },
 "nbformat": 4,
 "nbformat_minor": 2
}
